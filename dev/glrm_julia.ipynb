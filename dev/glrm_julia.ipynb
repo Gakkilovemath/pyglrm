{
 "cells": [
  {
   "cell_type": "code",
   "execution_count": 29,
   "metadata": {},
   "outputs": [],
   "source": [
    "using LowRankModels"
   ]
  },
  {
   "cell_type": "code",
   "execution_count": 30,
   "metadata": {},
   "outputs": [],
   "source": [
    "using DataFrames"
   ]
  },
  {
   "cell_type": "code",
   "execution_count": 38,
   "metadata": {},
   "outputs": [],
   "source": [
    "using Missings"
   ]
  },
  {
   "cell_type": "code",
   "execution_count": 67,
   "metadata": {
    "scrolled": true
   },
   "outputs": [
    {
     "data": {
      "text/html": [
       "<table class=\"data-frame\"><thead><tr><th></th><th>x1</th><th>x2</th></tr></thead><tbody><tr><th>1</th><td>NaN</td><td>1.0</td></tr><tr><th>2</th><td>2.0</td><td>3.0</td></tr></tbody></table>"
      ],
      "text/plain": [
       "2×2 DataFrames.DataFrame\n",
       "│ Row │ x1  │ x2  │\n",
       "├─────┼─────┼─────┤\n",
       "│ 1   │ NaN │ 1.0 │\n",
       "│ 2   │ 2.0 │ 3.0 │"
      ]
     },
     "execution_count": 67,
     "metadata": {},
     "output_type": "execute_result"
    }
   ],
   "source": [
    "A = DataFrame([NaN 1; 2 3])"
   ]
  },
  {
   "cell_type": "code",
   "execution_count": 63,
   "metadata": {},
   "outputs": [
    {
     "data": {
      "text/plain": [
       "true"
      ]
     },
     "execution_count": 63,
     "metadata": {},
     "output_type": "execute_result"
    }
   ],
   "source": [
    "ismissing(missing)"
   ]
  },
  {
   "cell_type": "code",
   "execution_count": 64,
   "metadata": {},
   "outputs": [
    {
     "data": {
      "text/plain": [
       "3-element Array{Tuple{Int64,Int64},1}:\n",
       " (2, 1)\n",
       " (1, 2)\n",
       " (2, 2)"
      ]
     },
     "execution_count": 64,
     "metadata": {},
     "output_type": "execute_result"
    }
   ],
   "source": [
    "obs = observations(A)"
   ]
  },
  {
   "cell_type": "code",
   "execution_count": 68,
   "metadata": {},
   "outputs": [
    {
     "data": {
      "text/plain": [
       "3-element Array{Tuple{Int64,Int64},1}:\n",
       " (2, 1)\n",
       " (1, 2)\n",
       " (2, 2)"
      ]
     },
     "execution_count": 68,
     "metadata": {},
     "output_type": "execute_result"
    }
   ],
   "source": [
    "obs"
   ]
  },
  {
   "cell_type": "code",
   "execution_count": 69,
   "metadata": {},
   "outputs": [
    {
     "data": {
      "text/plain": [
       "LowRankModels.GLRM(2×2 DataFrames.DataFrame\n",
       "│ Row │ x1  │ x2  │\n",
       "├─────┼─────┼─────┤\n",
       "│ 1   │ NaN │ 1.0 │\n",
       "│ 2   │ 2.0 │ 3.0 │, LowRankModels.Loss[LowRankModels.QuadLoss(1.0, LowRankModels.RealDomain()), LowRankModels.QuadLoss(1.0, LowRankModels.RealDomain())], LowRankModels.Regularizer[LowRankModels.ZeroReg(), LowRankModels.ZeroReg()], LowRankModels.Regularizer[LowRankModels.ZeroReg(), LowRankModels.ZeroReg()], 2, Array{Int64,1}[[2], [1, 2]], Array{Int64,1}[[2], [1, 2]], [0.643213 -0.675595; 0.231067 -1.48431], [-1.4829 0.567985; -0.94571 0.713827])"
      ]
     },
     "execution_count": 69,
     "metadata": {},
     "output_type": "execute_result"
    }
   ],
   "source": [
    "GLRM(A, QuadLoss(), ZeroReg(), ZeroReg(), 2, obs=obs)"
   ]
  },
  {
   "cell_type": "code",
   "execution_count": null,
   "metadata": {},
   "outputs": [],
   "source": []
  }
 ],
 "metadata": {
  "kernelspec": {
   "display_name": "Julia 0.6.2",
   "language": "julia",
   "name": "julia-0.6"
  },
  "language_info": {
   "file_extension": ".jl",
   "mimetype": "application/julia",
   "name": "julia",
   "version": "0.6.2"
  }
 },
 "nbformat": 4,
 "nbformat_minor": 2
}
