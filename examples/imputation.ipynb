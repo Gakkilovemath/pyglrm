{
 "cells": [
  {
   "cell_type": "markdown",
   "metadata": {},
   "source": [
    "# This collection of examples shows how to impute a matrix with missing entries."
   ]
  },
  {
   "cell_type": "code",
   "execution_count": 6,
   "metadata": {},
   "outputs": [],
   "source": [
    "import numpy as np\n",
    "import pandas as pd\n",
    "from pyglrm import glrm, observations"
   ]
  },
  {
   "cell_type": "markdown",
   "metadata": {},
   "source": [
    "## Example 1: automatically identify numpy.nan as missing entries"
   ]
  },
  {
   "cell_type": "code",
   "execution_count": 7,
   "metadata": {},
   "outputs": [],
   "source": [
    "# a numpy array with missing entry to fit GLRM onto\n",
    "A = np.array([[1, 2, np.nan, 4], [2, 4, 6, 8], [4, 5, 6, 7]])\n",
    "# initialize GLRM \n",
    "g = glrm(n_components=2)"
   ]
  },
  {
   "cell_type": "code",
   "execution_count": 8,
   "metadata": {},
   "outputs": [
    {
     "data": {
      "text/plain": [
       "array([[1.00619531, 1.99253287, 3.00366876, 4.00290162],\n",
       "       [2.01123193, 3.98294075, 6.00422545, 8.00171359],\n",
       "       [3.9952336 , 5.01114387, 5.99294672, 6.99934027]])"
      ]
     },
     "execution_count": 8,
     "metadata": {},
     "output_type": "execute_result"
    }
   ],
   "source": [
    "# fit GLRM onto A and impute the missing entry. Here the locations of missing entries are automatically identified \n",
    "g.fit_impute(A)"
   ]
  },
  {
   "cell_type": "code",
   "execution_count": 9,
   "metadata": {},
   "outputs": [
    {
     "data": {
      "text/plain": [
       "{'losses': <PyCall.jlwrap LowRankModels.QuadLoss(1.0, LowRankModels.RealDomain())>,\n",
       " 'rx': <PyCall.jlwrap LowRankModels.ZeroReg()>,\n",
       " 'ry': <PyCall.jlwrap LowRankModels.ZeroReg()>,\n",
       " 'n_components': 2,\n",
       " 'obs': [(0, 0),\n",
       "  (0, 1),\n",
       "  (0, 3),\n",
       "  (1, 0),\n",
       "  (1, 1),\n",
       "  (1, 2),\n",
       "  (1, 3),\n",
       "  (2, 0),\n",
       "  (2, 1),\n",
       "  (2, 2),\n",
       "  (2, 3)],\n",
       " 'offset': False,\n",
       " 'scale': False}"
      ]
     },
     "execution_count": 9,
     "metadata": {},
     "output_type": "execute_result"
    }
   ],
   "source": [
    "# get GLRM hyperparameters\n",
    "g.get_hyperprams()"
   ]
  },
  {
   "cell_type": "markdown",
   "metadata": {},
   "source": [
    "# Example 2: manually set the list of observed entries"
   ]
  },
  {
   "cell_type": "code",
   "execution_count": 10,
   "metadata": {},
   "outputs": [],
   "source": [
    "# a numpy array with missing entry to fit GLRM onto\n",
    "B = np.array([[1, 2, 9999, 4], [2, 4, 6, 8], [4, 5, 6, 7]])\n",
    "# get a list of indices of non-NaN entries\n",
    "obs = observations(B)\n",
    "# regard the (0, 2) entry as missing\n",
    "obs.remove((0, 2))\n",
    "g.set_hyperparams(obs=obs)"
   ]
  },
  {
   "cell_type": "code",
   "execution_count": 11,
   "metadata": {},
   "outputs": [
    {
     "data": {
      "text/plain": [
       "{'losses': <PyCall.jlwrap LowRankModels.QuadLoss(1.0, LowRankModels.RealDomain())>,\n",
       " 'rx': <PyCall.jlwrap LowRankModels.ZeroReg()>,\n",
       " 'ry': <PyCall.jlwrap LowRankModels.ZeroReg()>,\n",
       " 'n_components': 2,\n",
       " 'obs': [(0, 0),\n",
       "  (0, 1),\n",
       "  (0, 3),\n",
       "  (1, 0),\n",
       "  (1, 1),\n",
       "  (1, 2),\n",
       "  (1, 3),\n",
       "  (2, 0),\n",
       "  (2, 1),\n",
       "  (2, 2),\n",
       "  (2, 3)],\n",
       " 'offset': False,\n",
       " 'scale': False}"
      ]
     },
     "execution_count": 11,
     "metadata": {},
     "output_type": "execute_result"
    }
   ],
   "source": [
    "# get hyperparameters of the GLRM instance \n",
    "g.get_hyperprams()"
   ]
  },
  {
   "cell_type": "code",
   "execution_count": 12,
   "metadata": {},
   "outputs": [
    {
     "data": {
      "text/plain": [
       "array([[1.01436625, 2.00794468, 3.00358485, 3.99510385],\n",
       "       [1.99236176, 3.99525442, 6.00225748, 8.00104437],\n",
       "       [3.99955647, 4.99919028, 6.00349704, 6.99846281]])"
      ]
     },
     "execution_count": 12,
     "metadata": {},
     "output_type": "execute_result"
    }
   ],
   "source": [
    "# fit GLRM onto A and impute the missing entry. Here we disable the functionality of letting GLRM automatically identify observed entries\n",
    "g.fit_impute(B, identify_obs=False)"
   ]
  }
 ],
 "metadata": {
  "kernelspec": {
   "display_name": "Python 3",
   "language": "python",
   "name": "python3"
  },
  "language_info": {
   "codemirror_mode": {
    "name": "ipython",
    "version": 3
   },
   "file_extension": ".py",
   "mimetype": "text/x-python",
   "name": "python",
   "nbconvert_exporter": "python",
   "pygments_lexer": "ipython3",
   "version": "3.6.5"
  }
 },
 "nbformat": 4,
 "nbformat_minor": 2
}
