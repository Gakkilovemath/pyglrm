{
 "cells": [
  {
   "cell_type": "markdown",
   "metadata": {},
   "source": [
    "# This collection of examples shows how to impute a matrix with missing entries."
   ]
  },
  {
   "cell_type": "code",
   "execution_count": 1,
   "metadata": {},
   "outputs": [],
   "source": [
    "import numpy as np\n",
    "import pandas as pd\n",
    "from pyglrm import *"
   ]
  },
  {
   "cell_type": "markdown",
   "metadata": {},
   "source": [
    "## Example 1: automatically identify numpy.nan as missing entries"
   ]
  },
  {
   "cell_type": "code",
   "execution_count": 2,
   "metadata": {},
   "outputs": [],
   "source": [
    "# a numpy array with missing entry to fit GLRM onto\n",
    "A = np.array([[1, 2, np.nan, 4], [2, 4, 6, 8], [4, 5, 6, 7]])\n",
    "# initialize GLRM \n",
    "g = glrm(n_components=2)"
   ]
  },
  {
   "cell_type": "code",
   "execution_count": 3,
   "metadata": {},
   "outputs": [
    {
     "data": {
      "text/plain": [
       "array([[0.99870304, 2.00032385, 3.0092679 , 3.99784477],\n",
       "       [1.99713125, 3.9981317 , 6.01375681, 7.98871242],\n",
       "       [4.00129844, 4.99872837, 5.99511497, 7.00083044]])"
      ]
     },
     "execution_count": 3,
     "metadata": {},
     "output_type": "execute_result"
    }
   ],
   "source": [
    "# fit GLRM onto A and impute the missing entry. Here the locations of missing entries are automatically identified \n",
    "g.fit_impute(A)"
   ]
  },
  {
   "cell_type": "code",
   "execution_count": 20,
   "metadata": {},
   "outputs": [
    {
     "data": {
      "text/plain": [
       "{'losses': <PyCall.jlwrap LowRankModels.QuadLoss(1.0, LowRankModels.RealDomain())>,\n",
       " 'rx': <PyCall.jlwrap LowRankModels.ZeroReg()>,\n",
       " 'ry': <PyCall.jlwrap LowRankModels.ZeroReg()>,\n",
       " 'n_components': 2,\n",
       " 'obs': [(0, 0),\n",
       "  (0, 1),\n",
       "  (0, 3),\n",
       "  (1, 0),\n",
       "  (1, 1),\n",
       "  (1, 2),\n",
       "  (1, 3),\n",
       "  (2, 0),\n",
       "  (2, 1),\n",
       "  (2, 2),\n",
       "  (2, 3)],\n",
       " 'offset': False,\n",
       " 'scale': False}"
      ]
     },
     "execution_count": 20,
     "metadata": {},
     "output_type": "execute_result"
    }
   ],
   "source": [
    "# get GLRM hyperparameters\n",
    "g.get_hyperprams()"
   ]
  },
  {
   "cell_type": "markdown",
   "metadata": {},
   "source": [
    "# Example 2: manually set the list of observed entries"
   ]
  },
  {
   "cell_type": "code",
   "execution_count": 5,
   "metadata": {},
   "outputs": [],
   "source": [
    "# a numpy array with missing entry to fit GLRM onto\n",
    "B = np.array([[1, 2, 9999, 4], [2, 4, 6, 8], [4, 5, 6, 7]])\n",
    "# get a list of indices of non-NaN entries\n",
    "obs = observations(B)\n",
    "# regard the (0, 2) entry as missing\n",
    "obs.remove((0, 2))\n",
    "g.set_hyperparams(obs=obs)"
   ]
  },
  {
   "cell_type": "code",
   "execution_count": 6,
   "metadata": {},
   "outputs": [
    {
     "data": {
      "text/plain": [
       "{'losses': <PyCall.jlwrap LowRankModels.QuadLoss(1.0, LowRankModels.RealDomain())>,\n",
       " 'rx': <PyCall.jlwrap LowRankModels.ZeroReg()>,\n",
       " 'ry': <PyCall.jlwrap LowRankModels.ZeroReg()>,\n",
       " 'n_components': 2,\n",
       " 'obs': [(0, 0),\n",
       "  (0, 1),\n",
       "  (0, 3),\n",
       "  (1, 0),\n",
       "  (1, 1),\n",
       "  (1, 2),\n",
       "  (1, 3),\n",
       "  (2, 0),\n",
       "  (2, 1),\n",
       "  (2, 2),\n",
       "  (2, 3)],\n",
       " 'offset': False,\n",
       " 'scale': False}"
      ]
     },
     "execution_count": 6,
     "metadata": {},
     "output_type": "execute_result"
    }
   ],
   "source": [
    "# get hyperparameters of the GLRM instance \n",
    "g.get_hyperprams()"
   ]
  },
  {
   "cell_type": "code",
   "execution_count": 7,
   "metadata": {},
   "outputs": [
    {
     "data": {
      "text/plain": [
       "array([[0.99886478, 1.99808547, 2.99644759, 3.99720322],\n",
       "       [2.00095189, 4.00065967, 5.99861659, 8.00136119],\n",
       "       [3.98484371, 5.02039307, 6.00582326, 6.99015181]])"
      ]
     },
     "execution_count": 7,
     "metadata": {},
     "output_type": "execute_result"
    }
   ],
   "source": [
    "# fit GLRM onto A and impute the missing entry. Here we disable the functionality of letting GLRM automatically identify observed entries\n",
    "g.fit_impute(B, identify_obs=False)"
   ]
  }
 ],
 "metadata": {
  "kernelspec": {
   "display_name": "Python 3",
   "language": "python",
   "name": "python3"
  },
  "language_info": {
   "codemirror_mode": {
    "name": "ipython",
    "version": 3
   },
   "file_extension": ".py",
   "mimetype": "text/x-python",
   "name": "python",
   "nbconvert_exporter": "python",
   "pygments_lexer": "ipython3",
   "version": "3.6.5"
  }
 },
 "nbformat": 4,
 "nbformat_minor": 2
}
