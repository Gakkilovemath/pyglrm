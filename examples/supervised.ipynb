{
 "cells": [
  {
   "cell_type": "markdown",
   "metadata": {},
   "source": [
    "# This collection of examples shows how to get \"generalized\" principal components from a training matrix, and then project a new instance onto these components."
   ]
  },
  {
   "cell_type": "code",
   "execution_count": 1,
   "metadata": {},
   "outputs": [],
   "source": [
    "import numpy as np\n",
    "import pandas as pd\n",
    "from pyglrm import *"
   ]
  },
  {
   "cell_type": "markdown",
   "metadata": {},
   "source": [
    "## Example 1: get principal components from fitting GLRM onto a matrix with missing entries"
   ]
  },
  {
   "cell_type": "code",
   "execution_count": 2,
   "metadata": {},
   "outputs": [],
   "source": [
    "# a numpy array with missing entry to fit GLRM onto\n",
    "A = np.array([[1, 2, np.nan, 4], [2, 4, 6, 8], [4, 5, 6, 7]])\n",
    "# initialize GLRM \n",
    "g = glrm(n_components=2)"
   ]
  },
  {
   "cell_type": "code",
   "execution_count": 7,
   "metadata": {},
   "outputs": [],
   "source": [
    "# set Y regularizers as a list\n",
    "ry = [ZeroReg(), NonNegConstraint(), ZeroReg(), ZeroReg()]\n",
    "g.set_hyperparams(ry=ry)"
   ]
  },
  {
   "cell_type": "code",
   "execution_count": 8,
   "metadata": {},
   "outputs": [
    {
     "data": {
      "text/plain": [
       "{'losses': <PyCall.jlwrap LowRankModels.QuadLoss(1.0, LowRankModels.RealDomain())>,\n",
       " 'rx': <PyCall.jlwrap LowRankModels.ZeroReg()>,\n",
       " 'ry': [<PyCall.jlwrap LowRankModels.ZeroReg()>,\n",
       "  <PyCall.jlwrap LowRankModels.NonNegConstraint()>,\n",
       "  <PyCall.jlwrap LowRankModels.ZeroReg()>,\n",
       "  <PyCall.jlwrap LowRankModels.ZeroReg()>],\n",
       " 'n_components': 2,\n",
       " 'obs': None,\n",
       " 'offset': False,\n",
       " 'scale': False}"
      ]
     },
     "execution_count": 8,
     "metadata": {},
     "output_type": "execute_result"
    }
   ],
   "source": [
    "# get hyperparameters of the GLRM instance\n",
    "g.get_hyperprams()"
   ]
  },
  {
   "cell_type": "code",
   "execution_count": 11,
   "metadata": {},
   "outputs": [],
   "source": [
    "# fit GLRM on A to get principal components\n",
    "g.set_training_data(inputs=A)\n",
    "g.fit()\n",
    "# project the new instance onto principal components\n",
    "a_new = np.array([6, 7, 8, 9]) \n",
    "x = g.transform(inputs=a_new) "
   ]
  },
  {
   "cell_type": "code",
   "execution_count": 13,
   "metadata": {},
   "outputs": [
    {
     "data": {
      "text/plain": [
       "array([[-2.0595136 ],\n",
       "       [-6.26401242]])"
      ]
     },
     "execution_count": 13,
     "metadata": {},
     "output_type": "execute_result"
    }
   ],
   "source": [
    "#projections\n",
    "x"
   ]
  },
  {
   "cell_type": "markdown",
   "metadata": {},
   "source": [
    "# Example 2: nonnegative matrix factorization"
   ]
  },
  {
   "cell_type": "code",
   "execution_count": 15,
   "metadata": {},
   "outputs": [],
   "source": [
    "B = np.array([[1, 2, 3, 4], [2, 4, 6, 8], [4, 5, 6, 7]])\n",
    "# create an instance of the NNMF class, inherited from GLRM\n",
    "h = nnmf(n_components=2)\n",
    "g.set_training_data(inputs=B)\n",
    "g.fit()\n",
    "b_new = np.array([6, 7, 8, 9]) \n",
    "x_b = g.transform(inputs=b_new)"
   ]
  },
  {
   "cell_type": "code",
   "execution_count": 16,
   "metadata": {},
   "outputs": [
    {
     "data": {
      "text/plain": [
       "{'losses': <PyCall.jlwrap LowRankModels.QuadLoss(1.0, LowRankModels.RealDomain())>,\n",
       " 'rx': <PyCall.jlwrap LowRankModels.NonNegConstraint()>,\n",
       " 'ry': <PyCall.jlwrap LowRankModels.NonNegConstraint()>,\n",
       " 'n_components': 2,\n",
       " 'obs': None,\n",
       " 'offset': False,\n",
       " 'scale': False}"
      ]
     },
     "execution_count": 16,
     "metadata": {},
     "output_type": "execute_result"
    }
   ],
   "source": [
    "# get hyperparameters of the GLRM instance \n",
    "h.get_hyperprams()"
   ]
  }
 ],
 "metadata": {
  "kernelspec": {
   "display_name": "Python 3",
   "language": "python",
   "name": "python3"
  },
  "language_info": {
   "codemirror_mode": {
    "name": "ipython",
    "version": 3
   },
   "file_extension": ".py",
   "mimetype": "text/x-python",
   "name": "python",
   "nbconvert_exporter": "python",
   "pygments_lexer": "ipython3",
   "version": "3.6.5"
  }
 },
 "nbformat": 4,
 "nbformat_minor": 2
}
