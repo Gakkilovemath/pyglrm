{
 "cells": [
  {
   "cell_type": "code",
   "execution_count": 1,
   "metadata": {},
   "outputs": [],
   "source": [
    "import numpy as np\n",
    "import pandas as pd\n",
    "import julia"
   ]
  },
  {
   "cell_type": "code",
   "execution_count": 2,
   "metadata": {},
   "outputs": [],
   "source": [
    "j = julia.Julia()\n",
    "j.using(\"LowRankModels\")\n",
    "j.using(\"DataFrames\")"
   ]
  },
  {
   "cell_type": "code",
   "execution_count": 3,
   "metadata": {},
   "outputs": [],
   "source": [
    "aa = pd.DataFrame(np.array([[np.nan, 2], [5, 3]]))"
   ]
  },
  {
   "cell_type": "code",
   "execution_count": 4,
   "metadata": {},
   "outputs": [],
   "source": [
    "inputs = aa.values"
   ]
  },
  {
   "cell_type": "code",
   "execution_count": 7,
   "metadata": {},
   "outputs": [],
   "source": [
    "obs = []\n",
    "for row in range(inputs.shape[0]):\n",
    "    for col in range(inputs.shape[1]):\n",
    "        if not np.isnan(inputs)[row, col]:\n",
    "            obs.append((row+1, col+1))"
   ]
  },
  {
   "cell_type": "code",
   "execution_count": 9,
   "metadata": {},
   "outputs": [
    {
     "data": {
      "text/plain": [
       "<PyCall.jlwrap LowRankModels.GLRM([NaN 2.0; 5.0 3.0], LowRankModels.Loss[LowRankModels.QuadLoss(1.0, LowRankModels.RealDomain()), LowRankModels.QuadLoss(1.0, LowRankModels.RealDomain())], LowRankModels.Regularizer[LowRankModels.ZeroReg(), LowRankModels.ZeroReg()], LowRankModels.Regularizer[LowRankModels.ZeroReg(), LowRankModels.ZeroReg()], 1, Array{Int64,1}[[2], [1, 2]], Array{Int64,1}[[2], [1, 2]], [-0.31741 0.972022], [-0.501919 -0.217394])>"
      ]
     },
     "execution_count": 9,
     "metadata": {},
     "output_type": "execute_result"
    }
   ],
   "source": [
    "j.GLRM(aa.values, j.QuadLoss(), j.ZeroReg(), j.ZeroReg(), 1, obs=obs)"
   ]
  },
  {
   "cell_type": "code",
   "execution_count": 15,
   "metadata": {},
   "outputs": [
    {
     "data": {
      "text/plain": [
       "array([[ True, False],\n",
       "       [False, False]])"
      ]
     },
     "execution_count": 15,
     "metadata": {},
     "output_type": "execute_result"
    }
   ],
   "source": [
    "np.isnan(aa.values)"
   ]
  },
  {
   "cell_type": "code",
   "execution_count": 17,
   "metadata": {},
   "outputs": [
    {
     "ename": "SyntaxError",
     "evalue": "invalid syntax (<ipython-input-17-a033ed09f2af>, line 1)",
     "output_type": "error",
     "traceback": [
      "\u001b[0;36m  File \u001b[0;32m\"<ipython-input-17-a033ed09f2af>\"\u001b[0;36m, line \u001b[0;32m1\u001b[0m\n\u001b[0;31m    [(i, j) if np.isnan(aa.values)[i, j]>0 for i in range(aa.values.shape[0]) for j in range(aa.values.shape[1])]\u001b[0m\n\u001b[0m                                             ^\u001b[0m\n\u001b[0;31mSyntaxError\u001b[0m\u001b[0;31m:\u001b[0m invalid syntax\n"
     ]
    }
   ],
   "source": [
    "[(i, j) if np.isnan(aa.values)[i, j]>0 for i in range(aa.values.shape[0]) for j in range(aa.values.shape[1])]"
   ]
  },
  {
   "cell_type": "code",
   "execution_count": 19,
   "metadata": {},
   "outputs": [
    {
     "data": {
      "text/plain": [
       "<PyCall.jlwrap 2×2 DataFrames.DataFrame\n",
       "│ Row │ x1  │ x2  │\n",
       "├─────┼─────┼─────┤\n",
       "│ 1   │ NaN │ 2.0 │\n",
       "│ 2   │ 5.0 │ 3.0 │>"
      ]
     },
     "execution_count": 19,
     "metadata": {},
     "output_type": "execute_result"
    }
   ],
   "source": [
    "j.DataFrame(aa.values)"
   ]
  }
 ],
 "metadata": {
  "kernelspec": {
   "display_name": "Python 3",
   "language": "python",
   "name": "python3"
  },
  "language_info": {
   "codemirror_mode": {
    "name": "ipython",
    "version": 3
   },
   "file_extension": ".py",
   "mimetype": "text/x-python",
   "name": "python",
   "nbconvert_exporter": "python",
   "pygments_lexer": "ipython3",
   "version": "3.6.5"
  }
 },
 "nbformat": 4,
 "nbformat_minor": 2
}
