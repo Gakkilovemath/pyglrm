{
 "cells": [
  {
   "cell_type": "code",
   "execution_count": 1,
   "metadata": {},
   "outputs": [],
   "source": [
    "import numpy as np\n",
    "import pandas as pd\n",
    "from init import *"
   ]
  },
  {
   "cell_type": "code",
   "execution_count": 2,
   "metadata": {},
   "outputs": [],
   "source": [
    "# a numpy array with missing entry to fit GLRM onto\n",
    "A = np.array([[1, 2, np.nan, 4], [2, 4, 6, 8], [4, 5, 6, 7]])"
   ]
  },
  {
   "cell_type": "code",
   "execution_count": 10,
   "metadata": {},
   "outputs": [],
   "source": [
    "# a list of regularizers for each column\n",
    "ry = [ZeroReg(), NonNegConstraint(), ZeroReg(), ZeroReg()]"
   ]
  },
  {
   "cell_type": "code",
   "execution_count": 11,
   "metadata": {},
   "outputs": [],
   "source": [
    "# generalized PCA and projection\n",
    "g = glrm(n_components=2, ry=ry) \n",
    "g.set_training_data(inputs=A)\n",
    "g.fit()\n",
    "a_new = np.array([6, 7, 8, 9]) \n",
    "x = g.produce(inputs=a_new) "
   ]
  },
  {
   "cell_type": "code",
   "execution_count": 13,
   "metadata": {},
   "outputs": [
    {
     "data": {
      "text/plain": [
       "array([[ 2.08756711],\n",
       "       [-4.24421991]])"
      ]
     },
     "execution_count": 13,
     "metadata": {},
     "output_type": "execute_result"
    }
   ],
   "source": [
    "x"
   ]
  },
  {
   "cell_type": "code",
   "execution_count": 8,
   "metadata": {},
   "outputs": [],
   "source": [
    "# PCA \n",
    "h = glrm(n_components=2, offset=True, scale=True)"
   ]
  },
  {
   "cell_type": "code",
   "execution_count": 9,
   "metadata": {},
   "outputs": [
    {
     "data": {
      "text/plain": [
       "array([[0.89127751, 1.98454287, 3.5870526 , 4.18023421],\n",
       "       [2.85037246, 4.26518677, 5.75035484, 7.09264061],\n",
       "       [3.28222272, 4.76791722, 6.22721924, 7.73463271]])"
      ]
     },
     "execution_count": 9,
     "metadata": {},
     "output_type": "execute_result"
    }
   ],
   "source": [
    "h.fit_transform(pd.DataFrame(A))"
   ]
  },
  {
   "cell_type": "code",
   "execution_count": 10,
   "metadata": {},
   "outputs": [
    {
     "data": {
      "text/plain": [
       "array([[1.19013792, 1.86129339, 2.91885838, 4.00156825],\n",
       "       [2.81024151, 4.36575622, 5.77447742, 7.23637535],\n",
       "       [3.05730606, 4.74768487, 6.20995713, 7.72968094]])"
      ]
     },
     "execution_count": 10,
     "metadata": {},
     "output_type": "execute_result"
    }
   ],
   "source": [
    "h.fit_transform(A)"
   ]
  },
  {
   "cell_type": "code",
   "execution_count": 17,
   "metadata": {},
   "outputs": [
    {
     "data": {
      "text/plain": [
       "array([[0.99985907, 1.99818528, 3.99674977],\n",
       "       [1.99976466, 4.00242588, 7.99934368],\n",
       "       [4.00082593, 4.98856182, 6.99988752]])"
      ]
     },
     "execution_count": 17,
     "metadata": {},
     "output_type": "execute_result"
    }
   ],
   "source": [
    "B = np.array([[1, 2, np.nan, 4], [2, 4, np.nan, 8], [4, 5, np.nan, 7]])\n",
    "h2 = glrm(n_components=3)\n",
    "h2.fit_transform(B)"
   ]
  },
  {
   "cell_type": "code",
   "execution_count": 18,
   "metadata": {},
   "outputs": [],
   "source": [
    "#Python automatically converts integers to floats, thus I have not implemented the functionality of initializing losses and regularizers by types\n",
    "a = np.array([[1, 2], [3.2, 4.2]])"
   ]
  }
 ],
 "metadata": {
  "kernelspec": {
   "display_name": "Python 3",
   "language": "python",
   "name": "python3"
  },
  "language_info": {
   "codemirror_mode": {
    "name": "ipython",
    "version": 3
   },
   "file_extension": ".py",
   "mimetype": "text/x-python",
   "name": "python",
   "nbconvert_exporter": "python",
   "pygments_lexer": "ipython3",
   "version": "3.6.5"
  }
 },
 "nbformat": 4,
 "nbformat_minor": 2
}
